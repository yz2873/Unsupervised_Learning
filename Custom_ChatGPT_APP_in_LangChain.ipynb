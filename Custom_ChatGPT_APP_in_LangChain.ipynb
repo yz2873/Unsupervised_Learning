{
  "nbformat": 4,
  "nbformat_minor": 0,
  "metadata": {
    "colab": {
      "provenance": [],
      "authorship_tag": "ABX9TyM+D0XSD+okoveUKoTuabEr",
      "include_colab_link": true
    },
    "kernelspec": {
      "name": "python3",
      "display_name": "Python 3"
    },
    "language_info": {
      "name": "python"
    }
  },
  "cells": [
    {
      "cell_type": "markdown",
      "metadata": {
        "id": "view-in-github",
        "colab_type": "text"
      },
      "source": [
        "<a href=\"https://colab.research.google.com/github/yz2873/Unsupervised_Learning/blob/master/Custom_ChatGPT_APP_in_LangChain.ipynb\" target=\"_parent\"><img src=\"https://colab.research.google.com/assets/colab-badge.svg\" alt=\"Open In Colab\"/></a>"
      ]
    },
    {
      "cell_type": "markdown",
      "source": [
        "# **The Custom ChatGPT App in langchain and useing langchain.memory.ConversionBufferMemory to continuse talking**"
      ],
      "metadata": {
        "id": "tw0zEzxWjFLn"
      }
    },
    {
      "cell_type": "code",
      "source": [
        "!ls requirements.txt"
      ],
      "metadata": {
        "colab": {
          "base_uri": "https://localhost:8080/"
        },
        "id": "D3AbhN8vi6vc",
        "outputId": "7b9c22f6-3732-4c49-be21-48ed65a881ee"
      },
      "execution_count": 16,
      "outputs": [
        {
          "output_type": "stream",
          "name": "stdout",
          "text": [
            "requirements.txt\n"
          ]
        }
      ]
    },
    {
      "cell_type": "code",
      "source": [
        "!pip install -r requirements.txt -q"
      ],
      "metadata": {
        "id": "KbUrXaDfeDGx"
      },
      "execution_count": 4,
      "outputs": []
    },
    {
      "cell_type": "code",
      "source": [
        "!pip show langchain"
      ],
      "metadata": {
        "colab": {
          "base_uri": "https://localhost:8080/"
        },
        "id": "6e4GppCjfSwa",
        "outputId": "965d7e3f-db7c-4545-84f6-4e5da798f5cd"
      },
      "execution_count": 5,
      "outputs": [
        {
          "output_type": "stream",
          "name": "stdout",
          "text": [
            "Name: langchain\n",
            "Version: 0.0.330\n",
            "Summary: Building applications with LLMs through composability\n",
            "Home-page: https://github.com/langchain-ai/langchain\n",
            "Author: \n",
            "Author-email: \n",
            "License: MIT\n",
            "Location: /usr/local/lib/python3.10/dist-packages\n",
            "Requires: aiohttp, anyio, async-timeout, dataclasses-json, jsonpatch, langsmith, numpy, pydantic, PyYAML, requests, SQLAlchemy, tenacity\n",
            "Required-by: \n"
          ]
        }
      ]
    },
    {
      "cell_type": "markdown",
      "source": [
        "# **Load the API Keys**"
      ],
      "metadata": {
        "id": "kloPe-nGffJ_"
      }
    },
    {
      "cell_type": "code",
      "source": [
        "import os\n",
        "from dotenv import load_dotenv, find_dotenv"
      ],
      "metadata": {
        "id": "WUcBBP6-fmMJ"
      },
      "execution_count": 6,
      "outputs": []
    },
    {
      "cell_type": "code",
      "source": [
        "from google.colab import drive\n",
        "drive.mount('/content/drive', force_remount=True)"
      ],
      "metadata": {
        "colab": {
          "base_uri": "https://localhost:8080/"
        },
        "id": "XhaZn8fsgFJY",
        "outputId": "3d90c195-b1bf-462a-b5e8-e6b45c3cd8e4"
      },
      "execution_count": 7,
      "outputs": [
        {
          "output_type": "stream",
          "name": "stdout",
          "text": [
            "Mounted at /content/drive\n"
          ]
        }
      ]
    },
    {
      "cell_type": "code",
      "source": [
        "load_dotenv('/content/drive/My Drive/.env', override=True)"
      ],
      "metadata": {
        "colab": {
          "base_uri": "https://localhost:8080/"
        },
        "id": "NmJYTDjggVUL",
        "outputId": "c94752a5-c973-49bf-e35e-d22cb9acfd5b"
      },
      "execution_count": 8,
      "outputs": [
        {
          "output_type": "execute_result",
          "data": {
            "text/plain": [
              "True"
            ]
          },
          "metadata": {},
          "execution_count": 8
        }
      ]
    },
    {
      "cell_type": "code",
      "source": [
        "from langchain.chat_models import ChatOpenAI\n",
        "from langchain.schema import SystemMessage\n",
        "from langchain.chains import LLMChain\n",
        "from langchain.memory import ConversationBufferMemory\n",
        "from langchain.prompts import ChatPromptTemplate, HumanMessagePromptTemplate, MessagesPlaceholder"
      ],
      "metadata": {
        "id": "NcgsdIQmgbht"
      },
      "execution_count": 10,
      "outputs": []
    },
    {
      "cell_type": "code",
      "source": [
        "llm = ChatOpenAI(temperature=1)"
      ],
      "metadata": {
        "id": "b31B_xtnhHSD"
      },
      "execution_count": 11,
      "outputs": []
    },
    {
      "cell_type": "code",
      "source": [
        "memory = ConversationBufferMemory(memory_key='chat_history', return_messages=True)"
      ],
      "metadata": {
        "id": "PghhxyHKhRmQ"
      },
      "execution_count": 12,
      "outputs": []
    },
    {
      "cell_type": "code",
      "source": [
        "prompt = ChatPromptTemplate(\n",
        "    input_variables= ['content'],\n",
        "    messages= [\n",
        "        SystemMessage(content='You are a chatbot having a conversion with a human.'),\n",
        "        MessagesPlaceholder(variable_name='chat_history'),\n",
        "        HumanMessagePromptTemplate.from_template('{content}')\n",
        "    ]\n",
        ")"
      ],
      "metadata": {
        "id": "XNe7IJkXhhwq"
      },
      "execution_count": 13,
      "outputs": []
    },
    {
      "cell_type": "code",
      "source": [
        "chain = LLMChain(\n",
        "    llm = llm,\n",
        "    prompt = prompt,\n",
        "    memory=memory,\n",
        "    verbose = False\n",
        ")"
      ],
      "metadata": {
        "id": "LfWXOnzphucH"
      },
      "execution_count": 14,
      "outputs": []
    },
    {
      "cell_type": "code",
      "source": [
        "while True:\n",
        "    content = input(\"Your Prompt: \")\n",
        "    if content in ['quit', 'exit', 'bye']:\n",
        "        print('GoodBye...')\n",
        "        break\n",
        "\n",
        "    response = chain.run({'content': content})\n",
        "    print(response)\n",
        "    print('-' * 50)"
      ],
      "metadata": {
        "colab": {
          "base_uri": "https://localhost:8080/"
        },
        "id": "oIdv16-0iBFd",
        "outputId": "e8bede33-7d9c-4a1e-deea-a866abb97d02"
      },
      "execution_count": 15,
      "outputs": [
        {
          "output_type": "stream",
          "name": "stdout",
          "text": [
            "Your Prompt: Earth is ...\n",
            "Earth is the third planet from the Sun in our solar system. It is the only known planet to support life and is home to a wide variety of ecosystems, including oceans, forests, deserts, and more. Earth is also known for its diverse range of species, including humans. It has a complex geological history, with continents, mountains, and oceans. Overall, Earth is a beautiful and fragile planet that we should strive to protect.\n",
            "--------------------------------------------------\n",
            "Your Prompt: its diameter is ...\n",
            "The diameter of Earth is approximately 12,742 kilometers (7,918 miles).\n",
            "--------------------------------------------------\n",
            "Your Prompt: quit\n",
            "GoodBye...\n"
          ]
        }
      ]
    }
  ]
}