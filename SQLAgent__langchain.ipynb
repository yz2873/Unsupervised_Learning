{
  "nbformat": 4,
  "nbformat_minor": 0,
  "metadata": {
    "colab": {
      "provenance": [],
      "include_colab_link": true
    },
    "kernelspec": {
      "name": "python3",
      "display_name": "Python 3"
    },
    "language_info": {
      "name": "python"
    }
  },
  "cells": [
    {
      "cell_type": "markdown",
      "metadata": {
        "id": "view-in-github",
        "colab_type": "text"
      },
      "source": [
        "<a href=\"https://colab.research.google.com/github/yz2873/Unsupervised_Learning/blob/master/SQLAgent__langchain.ipynb\" target=\"_parent\"><img src=\"https://colab.research.google.com/assets/colab-badge.svg\" alt=\"Open In Colab\"/></a>"
      ]
    },
    {
      "cell_type": "code",
      "source": [
        "!pip install langchain\n",
        "!pip install openai\n",
        "!pip install python-dotenv"
      ],
      "metadata": {
        "id": "3HbmgWHKZx5u"
      },
      "execution_count": null,
      "outputs": []
    },
    {
      "cell_type": "code",
      "execution_count": null,
      "metadata": {
        "colab": {
          "base_uri": "https://localhost:8080/",
          "height": 198
        },
        "id": "XlF3BbXnZqWM",
        "outputId": "04c0484f-824a-4440-de7e-ae28a8f7003a"
      },
      "outputs": [
        {
          "output_type": "stream",
          "name": "stdout",
          "text": [
            "\n",
            "\n",
            "\u001b[1m> Entering new SQLDatabaseChain chain...\u001b[0m\n",
            "What percentage of distinct users in the app have given feedback?\n",
            "SQLQuery:\u001b[32;1m\u001b[1;3m SELECT COUNT(DISTINCT user_id) * 100.0 / (SELECT COUNT(*) FROM users) AS percentage FROM demo_leads WHERE feedback IS NOT NULL;\u001b[0m\n",
            "SQLResult: \u001b[33;1m\u001b[1;3m[(Decimal('3.1772575250836120'),)]\u001b[0m\n",
            "Answer:\u001b[32;1m\u001b[1;3m 3.18% of distinct users in the app have given feedback.\u001b[0m\n",
            "\u001b[1m> Finished chain.\u001b[0m\n"
          ]
        },
        {
          "output_type": "execute_result",
          "data": {
            "text/plain": [
              "' 3.18% of distinct users in the app have given feedback.'"
            ],
            "application/vnd.google.colaboratory.intrinsic+json": {
              "type": "string"
            }
          },
          "metadata": {},
          "execution_count": 18
        }
      ],
      "source": [
        "from langchain import OpenAI, SQLDatabase, SQLDatabaseChain\n",
        "from dotenv import load_dotenv\n",
        "import os\n",
        "\n",
        "load_dotenv()\n",
        "OPENAI_API_KEY = os.environ.get('OPENAI_API_KEY')\n",
        "PG_DB_URL = os.environ.get('PG_DB_URL')\n",
        "\n",
        "os.environ[\"OPENAI_API_KEY\"] = OPENAI_API_KEY\n",
        "\n",
        "db = SQLDatabase.from_uri(PG_DB_URL)\n",
        "llm = OpenAI(temperature=0)\n",
        "\n",
        "db_chain = SQLDatabaseChain(llm=llm, database=db, verbose=True)\n",
        "\n",
        "db_chain.run(\"What percentage of distinct users in the app have given feedback?\")"
      ]
    }
  ]
}