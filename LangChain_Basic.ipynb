{
  "nbformat": 4,
  "nbformat_minor": 0,
  "metadata": {
    "colab": {
      "provenance": [],
      "mount_file_id": "12qPKEyeFJJSF75nxZqtabU4HfKvs-s1H",
      "authorship_tag": "ABX9TyO/Upw9WgUlB79dQsyV4Ety",
      "include_colab_link": true
    },
    "kernelspec": {
      "name": "python3",
      "display_name": "Python 3"
    },
    "language_info": {
      "name": "python"
    }
  },
  "cells": [
    {
      "cell_type": "markdown",
      "metadata": {
        "id": "view-in-github",
        "colab_type": "text"
      },
      "source": [
        "<a href=\"https://colab.research.google.com/github/yz2873/Unsupervised_Learning/blob/master/LangChain_Basic.ipynb\" target=\"_parent\"><img src=\"https://colab.research.google.com/assets/colab-badge.svg\" alt=\"Open In Colab\"/></a>"
      ]
    },
    {
      "cell_type": "markdown",
      "source": [
        "# **LangChain Basics**\n",
        "\n",
        "---\n",
        "\n"
      ],
      "metadata": {
        "id": "9Q0jIlxJfFGO"
      }
    },
    {
      "cell_type": "code",
      "source": [
        "!ls requirements.txt"
      ],
      "metadata": {
        "colab": {
          "base_uri": "https://localhost:8080/"
        },
        "id": "yfFF-8arbdaz",
        "outputId": "15c2b7ed-abd2-4ff8-a22e-c27f65d623e4"
      },
      "execution_count": 1,
      "outputs": [
        {
          "output_type": "stream",
          "name": "stdout",
          "text": [
            "requirements.txt\n"
          ]
        }
      ]
    },
    {
      "cell_type": "code",
      "source": [
        "!pip install -r requirements.txt -q"
      ],
      "metadata": {
        "id": "9DcPCMJrdKLw",
        "colab": {
          "base_uri": "https://localhost:8080/"
        },
        "outputId": "fc3b7e3d-44b4-4834-d543-d01842c1a954"
      },
      "execution_count": 2,
      "outputs": [
        {
          "output_type": "stream",
          "name": "stdout",
          "text": [
            "\u001b[2K     \u001b[90m━━━━━━━━━━━━━━━━━━━━━━━━━━━━━━━━━━━━━━━━\u001b[0m \u001b[32m75.5/75.5 kB\u001b[0m \u001b[31m2.3 MB/s\u001b[0m eta \u001b[36m0:00:00\u001b[0m\n",
            "\u001b[2K     \u001b[90m━━━━━━━━━━━━━━━━━━━━━━━━━━━━━━━━━━━━━━━━\u001b[0m \u001b[32m1.5/1.5 MB\u001b[0m \u001b[31m12.4 MB/s\u001b[0m eta \u001b[36m0:00:00\u001b[0m\n",
            "\u001b[2K     \u001b[90m━━━━━━━━━━━━━━━━━━━━━━━━━━━━━━━━━━━━━━\u001b[0m \u001b[32m179.1/179.1 kB\u001b[0m \u001b[31m18.4 MB/s\u001b[0m eta \u001b[36m0:00:00\u001b[0m\n",
            "\u001b[2K     \u001b[90m━━━━━━━━━━━━━━━━━━━━━━━━━━━━━━━━━━━━━━━━\u001b[0m \u001b[32m1.7/1.7 MB\u001b[0m \u001b[31m20.9 MB/s\u001b[0m eta \u001b[36m0:00:00\u001b[0m\n",
            "\u001b[?25h  Preparing metadata (setup.py) ... \u001b[?25l\u001b[?25hdone\n",
            "\u001b[2K     \u001b[90m━━━━━━━━━━━━━━━━━━━━━━━━━━━━━━━━━━━━━━\u001b[0m \u001b[32m271.1/271.1 kB\u001b[0m \u001b[31m17.3 MB/s\u001b[0m eta \u001b[36m0:00:00\u001b[0m\n",
            "\u001b[?25h  Preparing metadata (setup.py) ... \u001b[?25l\u001b[?25hdone\n",
            "\u001b[2K     \u001b[90m━━━━━━━━━━━━━━━━━━━━━━━━━━━━━━━━━━━━━━━━\u001b[0m \u001b[32m60.0/60.0 kB\u001b[0m \u001b[31m6.8 MB/s\u001b[0m eta \u001b[36m0:00:00\u001b[0m\n",
            "\u001b[2K     \u001b[90m━━━━━━━━━━━━━━━━━━━━━━━━━━━━━━━━━━━━━━\u001b[0m \u001b[32m300.4/300.4 kB\u001b[0m \u001b[31m19.0 MB/s\u001b[0m eta \u001b[36m0:00:00\u001b[0m\n",
            "\u001b[2K     \u001b[90m━━━━━━━━━━━━━━━━━━━━━━━━━━━━━━━━━━━━━━━━\u001b[0m \u001b[32m49.4/49.4 kB\u001b[0m \u001b[31m4.8 MB/s\u001b[0m eta \u001b[36m0:00:00\u001b[0m\n",
            "\u001b[?25h  Building wheel for wikipedia (setup.py) ... \u001b[?25l\u001b[?25hdone\n",
            "  Building wheel for docx2txt (setup.py) ... \u001b[?25l\u001b[?25hdone\n"
          ]
        }
      ]
    },
    {
      "cell_type": "code",
      "source": [
        "!pip show langchain"
      ],
      "metadata": {
        "colab": {
          "base_uri": "https://localhost:8080/"
        },
        "id": "PyNU3AJtdb4E",
        "outputId": "bf1dce7f-0e84-4946-fa1c-5d3fb3b86653"
      },
      "execution_count": 3,
      "outputs": [
        {
          "output_type": "stream",
          "name": "stdout",
          "text": [
            "Name: langchain\n",
            "Version: 0.0.271\n",
            "Summary: Building applications with LLMs through composability\n",
            "Home-page: https://github.com/langchain-ai/langchain\n",
            "Author: \n",
            "Author-email: \n",
            "License: MIT\n",
            "Location: /usr/local/lib/python3.10/dist-packages\n",
            "Requires: aiohttp, async-timeout, dataclasses-json, langsmith, numexpr, numpy, pydantic, PyYAML, requests, SQLAlchemy, tenacity\n",
            "Required-by: \n"
          ]
        }
      ]
    },
    {
      "cell_type": "markdown",
      "source": [
        "## Load the API Keys"
      ],
      "metadata": {
        "id": "sHK0QHK3gnGD"
      }
    },
    {
      "cell_type": "code",
      "source": [
        "import os\n",
        "from dotenv import load_dotenv, find_dotenv"
      ],
      "metadata": {
        "id": "R4p3bjqnd0dK"
      },
      "execution_count": 4,
      "outputs": []
    },
    {
      "cell_type": "code",
      "source": [
        "from google.colab import drive\n",
        "drive.mount('/content/drive', force_remount=True)"
      ],
      "metadata": {
        "colab": {
          "base_uri": "https://localhost:8080/"
        },
        "id": "6bFzcl-seKsf",
        "outputId": "320e7fe6-fd36-42fa-f514-d9fcf4f6a07b"
      },
      "execution_count": 5,
      "outputs": [
        {
          "output_type": "stream",
          "name": "stdout",
          "text": [
            "Mounted at /content/drive\n"
          ]
        }
      ]
    },
    {
      "cell_type": "code",
      "source": [
        "load_dotenv('/content/drive/My Drive/.env', override=True)"
      ],
      "metadata": {
        "colab": {
          "base_uri": "https://localhost:8080/"
        },
        "id": "fmyHD_yseSvp",
        "outputId": "aca4f251-397b-4457-b9c1-cca52a0407db"
      },
      "execution_count": 6,
      "outputs": [
        {
          "output_type": "execute_result",
          "data": {
            "text/plain": [
              "True"
            ]
          },
          "metadata": {},
          "execution_count": 6
        }
      ]
    },
    {
      "cell_type": "code",
      "source": [
        "openai_api_key = os.environ.get('OPENAI_API_KEY')\n",
        "openai_api_key"
      ],
      "metadata": {
        "colab": {
          "base_uri": "https://localhost:8080/",
          "height": 35
        },
        "id": "-KH3AhTue4q6",
        "outputId": "63a5bef6-b773-4124-c6f3-a435837a8a8f"
      },
      "execution_count": 7,
      "outputs": [
        {
          "output_type": "execute_result",
          "data": {
            "text/plain": [
              "My key"
            ],
            "application/vnd.google.colaboratory.intrinsic+json": {
              "type": "string"
            }
          },
          "metadata": {},
          "execution_count": 7
        }
      ]
    },
    {
      "cell_type": "markdown",
      "source": [
        "## LLM Model GPT-3"
      ],
      "metadata": {
        "id": "8_9g-Bp7hFvy"
      }
    },
    {
      "cell_type": "code",
      "source": [
        "from langchain.llms import OpenAI"
      ],
      "metadata": {
        "id": "GYdMiUcigien"
      },
      "execution_count": null,
      "outputs": []
    },
    {
      "cell_type": "code",
      "source": [
        "llm = OpenAI(model_name='text-davinci-003', temperature=0.7, max_tokens=512)\n",
        "print(llm)"
      ],
      "metadata": {
        "colab": {
          "base_uri": "https://localhost:8080/"
        },
        "id": "_rW8WR6WibQa",
        "outputId": "d50df00e-800b-4b9c-ccd4-641e5755c8cc"
      },
      "execution_count": null,
      "outputs": [
        {
          "output_type": "stream",
          "name": "stdout",
          "text": [
            "\u001b[1mOpenAI\u001b[0m\n",
            "Params: {'model_name': 'text-davinci-003', 'temperature': 0.7, 'max_tokens': 512, 'top_p': 1, 'frequency_penalty': 0, 'presence_penalty': 0, 'n': 1, 'request_timeout': None, 'logit_bias': {}}\n"
          ]
        }
      ]
    },
    {
      "cell_type": "code",
      "source": [
        "output = llm('explain quantum mechanics in one sentance')\n",
        "print(output)"
      ],
      "metadata": {
        "colab": {
          "base_uri": "https://localhost:8080/"
        },
        "id": "c4B-Yxgmjl5B",
        "outputId": "39cee0bf-c0a2-4edb-9e9f-03223b182d43"
      },
      "execution_count": null,
      "outputs": [
        {
          "output_type": "stream",
          "name": "stdout",
          "text": [
            "\n",
            "\n",
            "Quantum mechanics is a branch of physics that describes the behavior of matter and energy on the atomic and subatomic level.\n"
          ]
        }
      ]
    },
    {
      "cell_type": "code",
      "source": [
        "print(llm.get_num_tokens('explain quantum mechanics in one sentance'))"
      ],
      "metadata": {
        "id": "G1L0qrq7jq7r",
        "colab": {
          "base_uri": "https://localhost:8080/"
        },
        "outputId": "b5b90077-16e1-4582-aa59-b5c7abd0eded"
      },
      "execution_count": null,
      "outputs": [
        {
          "output_type": "stream",
          "name": "stdout",
          "text": [
            "8\n"
          ]
        }
      ]
    },
    {
      "cell_type": "code",
      "source": [
        "output = llm.generate(['... is capital of China', 'What is the formula for area of a circle'])"
      ],
      "metadata": {
        "id": "bZOGoyRjEOKa"
      },
      "execution_count": null,
      "outputs": []
    },
    {
      "cell_type": "code",
      "source": [
        "output"
      ],
      "metadata": {
        "colab": {
          "base_uri": "https://localhost:8080/"
        },
        "id": "tAXWMXvyFPXf",
        "outputId": "1b691588-f407-4963-dec0-6ea356a42bdc"
      },
      "execution_count": null,
      "outputs": [
        {
          "output_type": "execute_result",
          "data": {
            "text/plain": [
              "LLMResult(generations=[[Generation(text='\\n\\nBeijing is the capital of China.', generation_info={'finish_reason': 'stop', 'logprobs': None})], [Generation(text='?\\n\\nThe formula for the area of a circle is A = πr^2, where r is the radius of the circle.', generation_info={'finish_reason': 'stop', 'logprobs': None})]], llm_output={'token_usage': {'completion_tokens': 39, 'prompt_tokens': 14, 'total_tokens': 53}, 'model_name': 'text-davinci-003'}, run=[RunInfo(run_id=UUID('0d4d2bc8-0fd8-42c9-ba08-08e7d3a915fd')), RunInfo(run_id=UUID('78e362f4-6eea-47e2-aecb-2191cf18f217'))])"
            ]
          },
          "metadata": {},
          "execution_count": 18
        }
      ]
    },
    {
      "cell_type": "code",
      "source": [
        "print(output.generations[0][0].text)"
      ],
      "metadata": {
        "colab": {
          "base_uri": "https://localhost:8080/"
        },
        "id": "TTrfEx4-Ff0V",
        "outputId": "728c8a89-4f4a-489b-f572-7d77e43952ef"
      },
      "execution_count": null,
      "outputs": [
        {
          "output_type": "stream",
          "name": "stdout",
          "text": [
            "\n",
            "\n",
            "Beijing is the capital of China.\n"
          ]
        }
      ]
    },
    {
      "cell_type": "code",
      "source": [
        "print(output.generations[1][0].text)"
      ],
      "metadata": {
        "colab": {
          "base_uri": "https://localhost:8080/"
        },
        "id": "WQMRwxY0FntB",
        "outputId": "cf414e02-8aa1-4c5a-91aa-d0abd31f0851"
      },
      "execution_count": null,
      "outputs": [
        {
          "output_type": "stream",
          "name": "stdout",
          "text": [
            "?\n",
            "\n",
            "The formula for the area of a circle is A = πr^2, where r is the radius of the circle.\n"
          ]
        }
      ]
    },
    {
      "cell_type": "markdown",
      "source": [
        "# **ChatModel: GPT-3.5-Turbo and GPT-4 (2023-08-16)**"
      ],
      "metadata": {
        "id": "qJhkqNPZLFGn"
      }
    },
    {
      "cell_type": "code",
      "source": [
        "from langchain.schema import HumanMessage, SystemMessage\n",
        "from langchain.chat_models import ChatOpenAI"
      ],
      "metadata": {
        "id": "Zk9C-_lAGIQR"
      },
      "execution_count": null,
      "outputs": []
    },
    {
      "cell_type": "code",
      "source": [
        "chat = ChatOpenAI(model_name='gpt-3.5-turbo', temperature=0.5, max_tokens=1024)"
      ],
      "metadata": {
        "id": "NqIU8kfpM043"
      },
      "execution_count": null,
      "outputs": []
    },
    {
      "cell_type": "code",
      "source": [
        "messages = [\n",
        "    SystemMessage(content='You are a physicist and response only in Chinese.'),\n",
        "    HumanMessage(content='explain quantum mechanics in one sentance.')\n",
        "]"
      ],
      "metadata": {
        "id": "uzugI6aoOsE5"
      },
      "execution_count": null,
      "outputs": []
    },
    {
      "cell_type": "code",
      "source": [
        "messages"
      ],
      "metadata": {
        "colab": {
          "base_uri": "https://localhost:8080/"
        },
        "id": "kqsR49koP1uZ",
        "outputId": "807b6d3d-473d-4f78-8dcf-0ed81e8034be"
      },
      "execution_count": null,
      "outputs": [
        {
          "output_type": "execute_result",
          "data": {
            "text/plain": [
              "[SystemMessage(content='You are a physicist and response only in Chinese.', additional_kwargs={}),\n",
              " HumanMessage(content='explain quantum mechanics in one sentance.', additional_kwargs={}, example=False)]"
            ]
          },
          "metadata": {},
          "execution_count": 40
        }
      ]
    },
    {
      "cell_type": "code",
      "source": [
        "output = chat(messages)"
      ],
      "metadata": {
        "id": "gbCHgNzoP4BQ"
      },
      "execution_count": null,
      "outputs": []
    },
    {
      "cell_type": "code",
      "source": [
        "print(output.content)"
      ],
      "metadata": {
        "colab": {
          "base_uri": "https://localhost:8080/"
        },
        "id": "Ufltj2P3QQz6",
        "outputId": "f59c5fbd-bc32-4e4d-c134-c18ce5b5df8e"
      },
      "execution_count": null,
      "outputs": [
        {
          "output_type": "stream",
          "name": "stdout",
          "text": [
            "量子力学是一种描述微观粒子行为的物理理论，它通过波粒二象性、不确定性原理和量子叠加等概念来解释微观世界的奇特现象。\n"
          ]
        }
      ]
    },
    {
      "cell_type": "markdown",
      "source": [
        "# **Prompt Templates**"
      ],
      "metadata": {
        "id": "06s-HJU7RCtr"
      }
    },
    {
      "cell_type": "code",
      "source": [
        "from langchain import PromptTemplate"
      ],
      "metadata": {
        "id": "SD6nux01QUoa"
      },
      "execution_count": null,
      "outputs": []
    },
    {
      "cell_type": "code",
      "source": [
        "template = ''' You are an experienced virologist.\n",
        "Write a few sentances about the following {virus} in {language}.'''\n",
        "template"
      ],
      "metadata": {
        "colab": {
          "base_uri": "https://localhost:8080/",
          "height": 53
        },
        "id": "DNrcHzWcSPnb",
        "outputId": "c3d250f7-6a96-4fd1-c190-3133361c7e82"
      },
      "execution_count": null,
      "outputs": [
        {
          "output_type": "execute_result",
          "data": {
            "text/plain": [
              "' You are an experienced virologist. \\nWrite a few sentances about the following {virus} in {language}.'"
            ],
            "application/vnd.google.colaboratory.intrinsic+json": {
              "type": "string"
            }
          },
          "metadata": {},
          "execution_count": 35
        }
      ]
    },
    {
      "cell_type": "code",
      "source": [
        "prompt = PromptTemplate(input_variables = ['virus', 'language'], template= template)\n",
        "print(prompt)"
      ],
      "metadata": {
        "colab": {
          "base_uri": "https://localhost:8080/"
        },
        "id": "XTnmTRyQUcol",
        "outputId": "4c52c351-e0a4-4454-f1bd-b988ddb2511c"
      },
      "execution_count": null,
      "outputs": [
        {
          "output_type": "stream",
          "name": "stdout",
          "text": [
            "input_variables=['virus', 'language'] output_parser=None partial_variables={} template=' You are an experienced virologist. \\nWrite a few sentances about the following {virus} in {language}.' template_format='f-string' validate_template=True\n"
          ]
        }
      ]
    },
    {
      "cell_type": "code",
      "source": [
        "from langchain.llms import OpenAI"
      ],
      "metadata": {
        "id": "2AjjIoksVsO0"
      },
      "execution_count": null,
      "outputs": []
    },
    {
      "cell_type": "code",
      "source": [
        "llm = OpenAI(model_name='text-davinci-003', temperature=0.7)\n",
        "output = llm(prompt.format(virus='ebola', language='chinese'))\n",
        "print(output)"
      ],
      "metadata": {
        "colab": {
          "base_uri": "https://localhost:8080/"
        },
        "id": "IZFS7jyXVuPL",
        "outputId": "1a670e5f-ec31-4bea-fba6-0b386ff84af1"
      },
      "execution_count": null,
      "outputs": [
        {
          "output_type": "stream",
          "name": "stdout",
          "text": [
            "\n",
            "\n",
            "中国的埃博拉病毒是一种致命的病毒，它可以通过接触感染患者的体液或未经处理的食物传播。埃博拉病毒可以导致出血热、肠道症状、肝硬化和脑病等严重疾病，最终可能会导致死亡。\n"
          ]
        }
      ]
    },
    {
      "cell_type": "markdown",
      "source": [
        "# **Simple Chains**  \n",
        "-- each session will be indendent"
      ],
      "metadata": {
        "id": "mG0nIf_T08W2"
      }
    },
    {
      "cell_type": "code",
      "source": [
        "# We will create a simple chain only for a single LLM and a single task\n",
        "from langchain.chat_models import ChatOpenAI\n",
        "from langchain import PromptTemplate\n",
        "from langchain.chains import LLMChain"
      ],
      "metadata": {
        "id": "BVVcxK_b1Dpz"
      },
      "execution_count": 8,
      "outputs": []
    },
    {
      "cell_type": "code",
      "source": [
        "llm = ChatOpenAI(model_name='gpt-3.5-turbo', temperature=0.5)"
      ],
      "metadata": {
        "id": "PZ1k9Chw4EHz"
      },
      "execution_count": 15,
      "outputs": []
    },
    {
      "cell_type": "code",
      "source": [
        "# Create a template for prompt object\n",
        "template = ''' You are an experienced virologist.\n",
        "Write a few sentances about the following {virus} in {language}.\n",
        "'''\n",
        "prompt = PromptTemplate(\n",
        "    input_variables=['virus', 'language'],\n",
        "    template=template\n",
        ")"
      ],
      "metadata": {
        "id": "HcUasxiv4fjD"
      },
      "execution_count": 14,
      "outputs": []
    },
    {
      "cell_type": "code",
      "source": [
        "# Now we have llm mode and prompt object, we can create a simple chain\n",
        "chain = LLMChain(llm=llm, prompt=prompt)"
      ],
      "metadata": {
        "id": "dh9KSf2a4vBc"
      },
      "execution_count": 16,
      "outputs": []
    },
    {
      "cell_type": "code",
      "source": [
        "output = chain.run({'virus':'HSV', 'language': 'chinese'})"
      ],
      "metadata": {
        "id": "bo35Ny3Q6IA1"
      },
      "execution_count": 17,
      "outputs": []
    },
    {
      "cell_type": "code",
      "source": [
        "print(output)"
      ],
      "metadata": {
        "colab": {
          "base_uri": "https://localhost:8080/"
        },
        "id": "_n6UgeMz78cH",
        "outputId": "b68023b9-90ce-48d1-94aa-d9d4820d7c5d"
      },
      "execution_count": 18,
      "outputs": [
        {
          "output_type": "stream",
          "name": "stdout",
          "text": [
            "HSV（单纯疱疹病毒）是一种常见的病毒，可引起人类的感染。它分为HSV-1和HSV-2两种亚型，分别引起口腔和生殖部位的疱疹。HSV可以通过直接接触传播，如性接触或触摸感染部位，也可以通过唾液、体液等途径传播。HSV感染通常会引起疱疹、疼痛和发热等症状，严重感染可能导致并发症。目前，虽然没有治愈HSV的方法，但抗病毒药物可以缓解症状和减少传播风险。预防HSV感染的最佳方法是避免直接接触病毒，并保持良好的个人卫生习惯。\n"
          ]
        }
      ]
    },
    {
      "cell_type": "code",
      "source": [
        "# For single variable, then\n",
        "template = ''' You are an experienced virologist.\n",
        "Write a few sentances about the following {virus}.\n",
        "'''\n",
        "prompt = PromptTemplate(\n",
        "    input_variables=['virus'],\n",
        "    template=template\n",
        ")"
      ],
      "metadata": {
        "id": "AoFQ6GEd7_dF"
      },
      "execution_count": 19,
      "outputs": []
    },
    {
      "cell_type": "code",
      "source": [
        "chain = LLMChain(llm=llm, prompt=prompt)"
      ],
      "metadata": {
        "id": "GFKHrYp_9v73"
      },
      "execution_count": 22,
      "outputs": []
    },
    {
      "cell_type": "code",
      "source": [
        "# Output language will be English\n",
        "output = chain.run('HSV')\n",
        "print(output)"
      ],
      "metadata": {
        "colab": {
          "base_uri": "https://localhost:8080/"
        },
        "id": "jXQygy999Elh",
        "outputId": "5abdf473-3625-4448-d71e-b8ba445c3923"
      },
      "execution_count": 23,
      "outputs": [
        {
          "output_type": "stream",
          "name": "stdout",
          "text": [
            "HSV, or Herpes Simplex Virus, is a common viral infection that affects humans. There are two types of HSV, namely HSV-1 and HSV-2. HSV-1 is primarily associated with oral herpes, causing cold sores or fever blisters around the mouth, while HSV-2 is primarily associated with genital herpes. Both types of HSV can cause painful sores or blisters on the affected area and can be transmitted through direct contact with the infected person. While there is no cure for HSV, antiviral medications can help manage the symptoms and reduce the frequency and severity of outbreaks.\n"
          ]
        }
      ]
    }
  ]
}
